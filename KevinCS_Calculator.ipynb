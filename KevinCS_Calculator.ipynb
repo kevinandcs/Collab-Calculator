{
  "nbformat": 4,
  "nbformat_minor": 0,
  "metadata": {
    "colab": {
      "name": "KevinCS-Calculator.ipynb",
      "version": "0.3.2",
      "provenance": [],
      "collapsed_sections": [],
      "include_colab_link": true
    },
    "kernelspec": {
      "name": "python3",
      "display_name": "Python 3"
    }
  },
  "cells": [
    {
      "cell_type": "markdown",
      "metadata": {
        "id": "view-in-github",
        "colab_type": "text"
      },
      "source": [
        "[View in Colaboratory](https://colab.research.google.com/github/kevinandcs/Collab-Calculator/blob/master/KevinCS_Calculator.ipynb)"
      ]
    },
    {
      "metadata": {
        "id": "9mJaW_YR8hNl",
        "colab_type": "text"
      },
      "cell_type": "markdown",
      "source": [
        "### **Basic Calculator**"
      ]
    },
    {
      "metadata": {
        "id": "hGChvdtW8zHH",
        "colab_type": "text"
      },
      "cell_type": "markdown",
      "source": [
        "Instruction: Enter inputs and operators and press \"Play\" button to get the result.\n",
        "Note: The calculator can perform following operations:\n",
        "\n",
        "    Plus (+), Minus (-), Mutiply (x), Divide (/), Power (^)"
      ]
    },
    {
      "metadata": {
        "id": "bmi_r0EF0rDt",
        "colab_type": "code",
        "colab": {
          "base_uri": "https://localhost:8080/",
          "height": 55
        },
        "outputId": "0f41941c-c0f1-4407-9df3-afcf2dddcd14"
      },
      "cell_type": "code",
      "source": [
        "# ======================\n",
        "# Basic Calculator\n",
        "# version 1.0 (2018/07/14)\n",
        "# Kevin Ham\n",
        "# ======================\n",
        "Input1 = 2 #@param {type:\"number\"}\n",
        "Operator = \"Power\" #@param [\"Add\", \"Minus\", \"Multiply\", \"Divide\", \"Power\"]\n",
        "Input2 = 3 #@param {type:\"number\"}\n",
        "myresult = 0\n",
        "if Operator == \"Add\":\n",
        "    myresult = Input1 + Input2\n",
        "elif Operator == \"Minus\":\n",
        "    myresult = Input1 - Input2\n",
        "elif Operator == \"Multiply\":\n",
        "    myresult = Input1 * Input2\n",
        "elif Operator == \"Divide\":\n",
        "    myresult = Input1 / Input2\n",
        "elif Operator == \"Power\":\n",
        "    myresult = Input1**Input2\n",
        "else:\n",
        "    myresult = 0\n",
        "print(\"Result:\")\n",
        "print(myresult)"
      ],
      "execution_count": 49,
      "outputs": [
        {
          "output_type": "stream",
          "text": [
            "Result:\n",
            "8\n"
          ],
          "name": "stdout"
        }
      ]
    },
    {
      "metadata": {
        "id": "d4WcHOWZKQyb",
        "colab_type": "code",
        "colab": {}
      },
      "cell_type": "code",
      "source": [
        ""
      ],
      "execution_count": 0,
      "outputs": []
    }
  ]
}